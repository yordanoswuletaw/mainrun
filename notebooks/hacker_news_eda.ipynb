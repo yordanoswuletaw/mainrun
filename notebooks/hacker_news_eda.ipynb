{
 "cells": [
  {
   "cell_type": "code",
   "execution_count": 14,
   "id": "b2a58396",
   "metadata": {},
   "outputs": [],
   "source": [
    "\"\"\"\n",
    "Hacker News Dataset Analysis\n",
    "Quick overview of the dataset\n",
    "\"\"\"\n",
    "\n",
    "from datasets import load_dataset\n",
    "from collections import Counter\n",
    "import numpy as np\n",
    "from tqdm import tqdm"
   ]
  },
  {
   "cell_type": "markdown",
   "id": "7134dff2",
   "metadata": {},
   "source": [
    "### **Explore Hacker News Data**"
   ]
  },
  {
   "cell_type": "code",
   "execution_count": 15,
   "id": "85307c1c",
   "metadata": {},
   "outputs": [
    {
     "name": "stdout",
     "output_type": "stream",
     "text": [
      "\n",
      "�� Loading dataset...\n",
      "Dataset({\n",
      "    features: ['id', 'title', 'url', 'score', 'time', 'comments', 'author'],\n",
      "    num_rows: 4010957\n",
      "})\n"
     ]
    },
    {
     "data": {
      "text/html": [
       "<div>\n",
       "<style scoped>\n",
       "    .dataframe tbody tr th:only-of-type {\n",
       "        vertical-align: middle;\n",
       "    }\n",
       "\n",
       "    .dataframe tbody tr th {\n",
       "        vertical-align: top;\n",
       "    }\n",
       "\n",
       "    .dataframe thead th {\n",
       "        text-align: right;\n",
       "    }\n",
       "</style>\n",
       "<table border=\"1\" class=\"dataframe\">\n",
       "  <thead>\n",
       "    <tr style=\"text-align: right;\">\n",
       "      <th></th>\n",
       "      <th>id</th>\n",
       "      <th>title</th>\n",
       "      <th>url</th>\n",
       "      <th>score</th>\n",
       "      <th>time</th>\n",
       "      <th>comments</th>\n",
       "      <th>author</th>\n",
       "    </tr>\n",
       "  </thead>\n",
       "  <tbody>\n",
       "    <tr>\n",
       "      <th>0</th>\n",
       "      <td>3404047</td>\n",
       "      <td>Copyright Office Seeks To Make It More Difficu...</td>\n",
       "      <td>http://www.techdirt.com/articles/20111227/1728...</td>\n",
       "      <td>31</td>\n",
       "      <td>1325175114</td>\n",
       "      <td>2</td>\n",
       "      <td>nextparadigms</td>\n",
       "    </tr>\n",
       "    <tr>\n",
       "      <th>1</th>\n",
       "      <td>7642295</td>\n",
       "      <td>High Fidelity System Architecture</td>\n",
       "      <td>https://highfidelity.io/blog/2014/04/high-fide...</td>\n",
       "      <td>1</td>\n",
       "      <td>1398367025</td>\n",
       "      <td>0</td>\n",
       "      <td>_pius</td>\n",
       "    </tr>\n",
       "    <tr>\n",
       "      <th>2</th>\n",
       "      <td>261704</td>\n",
       "      <td>Ribbit investor talks about good returns, bad ...</td>\n",
       "      <td>http://venturebeat.com/2008/07/29/ribbit-inves...</td>\n",
       "      <td>1</td>\n",
       "      <td>1217418551</td>\n",
       "      <td>0</td>\n",
       "      <td>paulsb</td>\n",
       "    </tr>\n",
       "    <tr>\n",
       "      <th>3</th>\n",
       "      <td>31192205</td>\n",
       "      <td>Why Optimizing Employee Performance Is the Fut...</td>\n",
       "      <td>https://www.forbes.com/sites/forbestechcouncil...</td>\n",
       "      <td>1</td>\n",
       "      <td>1651152663</td>\n",
       "      <td>1</td>\n",
       "      <td>JSeymourATL</td>\n",
       "    </tr>\n",
       "    <tr>\n",
       "      <th>4</th>\n",
       "      <td>7624091</td>\n",
       "      <td>Tiling by regular polygons</td>\n",
       "      <td>https://en.wikipedia.org/wiki/Tiling_by_regula...</td>\n",
       "      <td>2</td>\n",
       "      <td>1398116185</td>\n",
       "      <td>0</td>\n",
       "      <td>hnha</td>\n",
       "    </tr>\n",
       "  </tbody>\n",
       "</table>\n",
       "</div>"
      ],
      "text/plain": [
       "         id                                              title  \\\n",
       "0   3404047  Copyright Office Seeks To Make It More Difficu...   \n",
       "1   7642295                  High Fidelity System Architecture   \n",
       "2    261704  Ribbit investor talks about good returns, bad ...   \n",
       "3  31192205  Why Optimizing Employee Performance Is the Fut...   \n",
       "4   7624091                         Tiling by regular polygons   \n",
       "\n",
       "                                                 url  score        time  \\\n",
       "0  http://www.techdirt.com/articles/20111227/1728...     31  1325175114   \n",
       "1  https://highfidelity.io/blog/2014/04/high-fide...      1  1398367025   \n",
       "2  http://venturebeat.com/2008/07/29/ribbit-inves...      1  1217418551   \n",
       "3  https://www.forbes.com/sites/forbestechcouncil...      1  1651152663   \n",
       "4  https://en.wikipedia.org/wiki/Tiling_by_regula...      2  1398116185   \n",
       "\n",
       "   comments         author  \n",
       "0         2  nextparadigms  \n",
       "1         0          _pius  \n",
       "2         0         paulsb  \n",
       "3         1    JSeymourATL  \n",
       "4         0           hnha  "
      ]
     },
     "execution_count": 15,
     "metadata": {},
     "output_type": "execute_result"
    }
   ],
   "source": [
    "# Load dataset\n",
    "print(\"\\n�� Loading dataset...\")\n",
    "dataset = load_dataset(\"julien040/hacker-news-posts\", split=\"train\", cache_dir=\"../mainrun/data\")\n",
    "print(dataset)\n",
    "\n",
    "# Take subset of dataset\n",
    "sub_dataset = dataset.select(range(100))\n",
    "\n",
    "# Convert to pandas dataframe\n",
    "df = sub_dataset.to_pandas()\n",
    "df.head()"
   ]
  },
  {
   "cell_type": "code",
   "execution_count": 16,
   "id": "5cdd7ffa",
   "metadata": {},
   "outputs": [],
   "source": [
    "# Extract 100k titles\n",
    "titles = [row['title'].strip() for row in dataset.take(100_000)]"
   ]
  },
  {
   "cell_type": "code",
   "execution_count": 17,
   "id": "3a65d45d",
   "metadata": {},
   "outputs": [
    {
     "data": {
      "text/plain": [
       "['Copyright Office Seeks To Make It More Difficult To Retain DMCA Safe Harbors',\n",
       " 'High Fidelity System Architecture',\n",
       " 'Ribbit investor talks about good returns, bad markets and ‘Communication 2.0′',\n",
       " 'Why Optimizing Employee Performance Is the Future of Work',\n",
       " 'Tiling by regular polygons']"
      ]
     },
     "execution_count": 17,
     "metadata": {},
     "output_type": "execute_result"
    }
   ],
   "source": [
    "# Example Titles\n",
    "titles[:5]"
   ]
  },
  {
   "cell_type": "code",
   "execution_count": 20,
   "id": "ad71e7fe",
   "metadata": {},
   "outputs": [
    {
     "name": "stderr",
     "output_type": "stream",
     "text": [
      "100%|██████████| 100000/100000 [00:08<00:00, 11388.66it/s]\n"
     ]
    }
   ],
   "source": [
    "from collections import Counter\n",
    "import pandas as pd\n",
    "\n",
    "def basic_stats(titles):\n",
    "\n",
    "    title_lengths, word_counts, word_freq = [], [], Counter()\n",
    "\n",
    "    for title in tqdm(titles):\n",
    "        title_lengths.append(len(title))\n",
    "        words = title.split()\n",
    "        word_counts.append(len(words))\n",
    "        word_freq.update(words)\n",
    "\n",
    "    return word_freq, pd.DataFrame(data={'title_lengths': title_lengths, 'word_counts': word_counts})\n",
    "\n",
    "word_freq, stat_df = basic_stats(titles)"
   ]
  },
  {
   "cell_type": "code",
   "execution_count": 21,
   "id": "94aff373",
   "metadata": {},
   "outputs": [
    {
     "data": {
      "text/html": [
       "<div>\n",
       "<style scoped>\n",
       "    .dataframe tbody tr th:only-of-type {\n",
       "        vertical-align: middle;\n",
       "    }\n",
       "\n",
       "    .dataframe tbody tr th {\n",
       "        vertical-align: top;\n",
       "    }\n",
       "\n",
       "    .dataframe thead th {\n",
       "        text-align: right;\n",
       "    }\n",
       "</style>\n",
       "<table border=\"1\" class=\"dataframe\">\n",
       "  <thead>\n",
       "    <tr style=\"text-align: right;\">\n",
       "      <th></th>\n",
       "      <th>title_lengths</th>\n",
       "      <th>word_counts</th>\n",
       "    </tr>\n",
       "  </thead>\n",
       "  <tbody>\n",
       "    <tr>\n",
       "      <th>count</th>\n",
       "      <td>100000.000000</td>\n",
       "      <td>100000.000000</td>\n",
       "    </tr>\n",
       "    <tr>\n",
       "      <th>mean</th>\n",
       "      <td>48.222320</td>\n",
       "      <td>7.789840</td>\n",
       "    </tr>\n",
       "    <tr>\n",
       "      <th>std</th>\n",
       "      <td>17.941885</td>\n",
       "      <td>3.079378</td>\n",
       "    </tr>\n",
       "    <tr>\n",
       "      <th>min</th>\n",
       "      <td>1.000000</td>\n",
       "      <td>1.000000</td>\n",
       "    </tr>\n",
       "    <tr>\n",
       "      <th>25%</th>\n",
       "      <td>35.000000</td>\n",
       "      <td>6.000000</td>\n",
       "    </tr>\n",
       "    <tr>\n",
       "      <th>50%</th>\n",
       "      <td>48.000000</td>\n",
       "      <td>8.000000</td>\n",
       "    </tr>\n",
       "    <tr>\n",
       "      <th>75%</th>\n",
       "      <td>62.000000</td>\n",
       "      <td>10.000000</td>\n",
       "    </tr>\n",
       "    <tr>\n",
       "      <th>max</th>\n",
       "      <td>147.000000</td>\n",
       "      <td>28.000000</td>\n",
       "    </tr>\n",
       "  </tbody>\n",
       "</table>\n",
       "</div>"
      ],
      "text/plain": [
       "       title_lengths    word_counts\n",
       "count  100000.000000  100000.000000\n",
       "mean       48.222320       7.789840\n",
       "std        17.941885       3.079378\n",
       "min         1.000000       1.000000\n",
       "25%        35.000000       6.000000\n",
       "50%        48.000000       8.000000\n",
       "75%        62.000000      10.000000\n",
       "max       147.000000      28.000000"
      ]
     },
     "execution_count": 21,
     "metadata": {},
     "output_type": "execute_result"
    }
   ],
   "source": [
    "stat_df.describe()"
   ]
  },
  {
   "cell_type": "code",
   "execution_count": 26,
   "id": "29d3b188",
   "metadata": {},
   "outputs": [
    {
     "name": "stdout",
     "output_type": "stream",
     "text": [
      "Vocab size:  110474\n",
      "Most common words:  [('to', 17494), ('the', 14426), ('of', 13208), ('for', 11102), ('in', 10945), ('and', 10849), ('a', 10831), ('The', 8377), ('HN:', 7049), ('on', 5952)]\n"
     ]
    }
   ],
   "source": [
    "print(\"Vocab size: \", len(word_freq))\n",
    "print('Most common words: ', word_freq.most_common(10))"
   ]
  }
 ],
 "metadata": {
  "kernelspec": {
   "display_name": "Python 3",
   "language": "python",
   "name": "python3"
  },
  "language_info": {
   "codemirror_mode": {
    "name": "ipython",
    "version": 3
   },
   "file_extension": ".py",
   "mimetype": "text/x-python",
   "name": "python",
   "nbconvert_exporter": "python",
   "pygments_lexer": "ipython3",
   "version": "3.10.12"
  }
 },
 "nbformat": 4,
 "nbformat_minor": 5
}
